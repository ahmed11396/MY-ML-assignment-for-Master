{
  "cells": [
    {
      "cell_type": "markdown",
      "source": [
        "adapted from https://hsajjad.github.io/pages/dl4nlp/"
      ],
      "metadata": {
        "id": "nhMSsIyjTVvP"
      }
    },
    {
      "cell_type": "markdown",
      "metadata": {
        "id": "dG5aZWdqQ_Yg"
      },
      "source": [
        "# Imports"
      ]
    },
    {
      "cell_type": "code",
      "execution_count": 2,
      "metadata": {
        "id": "zYY_g_feQ_Yn"
      },
      "outputs": [],
      "source": [
        "from tensorflow.keras import optimizers\n",
        "from tensorflow.keras.models import Sequential\n",
        "from tensorflow.keras.layers import Dense, Softmax\n",
        "from tensorflow.keras.utils import to_categorical\n",
        "\n",
        "import matplotlib.pyplot as plt\n",
        "import numpy as np\n",
        "import random\n",
        "\n",
        "from matplotlib import animation, rc\n",
        "\n",
        "%matplotlib inline\n",
        "\n",
        "rc('animation', html='html5')"
      ]
    },
    {
      "cell_type": "markdown",
      "metadata": {
        "id": "LIP3z2BbQ_Yr"
      },
      "source": [
        "# Plotting setup"
      ]
    },
    {
      "cell_type": "code",
      "execution_count": 3,
      "metadata": {
        "id": "fdWTVs5-Q_Yr",
        "outputId": "e542785f-42ab-412f-febf-e9e401773f17",
        "colab": {
          "base_uri": "https://localhost:8080/",
          "height": 269
        }
      },
      "outputs": [
        {
          "output_type": "display_data",
          "data": {
            "image/png": "[encoded data removed]",
            "text/plain": [
              "<Figure size 432x288 with 1 Axes>"
            ]
          },
          "metadata": {
            "needs_background": "light"
          }
        }
      ],
      "source": [
        "# First set up the figure, the axis, and the plot element we want to animate\n",
        "fig, ax = plt.subplots();\n",
        "\n",
        "ax.set_xlim([-15,15])\n",
        "ax.set_ylim([-6,6])\n",
        "line1, = ax.plot([], [], '-')\n",
        "line2 = ax.scatter([], [])"
      ]
    },
    {
      "cell_type": "code",
      "execution_count": 4,
      "metadata": {
        "id": "GGAQR8HMQ_Ys"
      },
      "outputs": [],
      "source": [
        "# Helper function to visualize decision boundaries\n",
        "def visualize(model, data, labels, w, b, title=None, colors=['r','b','g'], background_colors=['#FF6969', '#6B94DC', '#6DDC6B']):\n",
        "    nx,ny = 500,500\n",
        "    xx,yy = np.meshgrid(np.linspace(-15, 15, nx), np.linspace(-6, 6, ny))\n",
        "    x_grid = np.hstack((xx.flatten().reshape(nx*ny,1), yy.flatten().reshape(nx*ny,1)))\n",
        "\n",
        "    y_pred = model.predict(x_grid, verbose=False)\n",
        "    g = np.argmax(y_pred, axis=1)\n",
        "    c = [background_colors[v] for v in g]\n",
        "    plt.scatter(xx, yy, c=c, s=40, marker='s', edgecolor='none')#, cmap=plt.cm.Spectral)\n",
        "    plt.scatter([x[0] for x in data], [x[1] for x in data], c=[colors[l] for l in labels], s=40)\n",
        "    plt.xlim([-15,15])\n",
        "    plt.ylim([-6,6])\n",
        "    if title:\n",
        "        plt.title(title)\n",
        "    plt.show()"
      ]
    },
    {
      "cell_type": "markdown",
      "metadata": {
        "id": "itrOAAmwQ_Yt"
      },
      "source": [
        "# Data Setup\n",
        "Unlike the previous toy example set with 4 instances, we will create a bigger (but still toy) set with 100 data points"
      ]
    },
    {
      "cell_type": "code",
      "execution_count": 26,
      "metadata": {
        "id": "pYGgf-isQ_Yt",
        "outputId": "70694a6d-c03b-4cbb-baf2-fb853f047265",
        "colab": {
          "base_uri": "https://localhost:8080/",
          "height": 286
        }
      },
      "outputs": [
        {
          "output_type": "execute_result",
          "data": {
            "text/plain": [
              "[<matplotlib.lines.Line2D at 0x7fb19253cc90>]"
            ]
          },
          "metadata": {},
          "execution_count": 26
        },
        {
          "output_type": "display_data",
          "data": {
            "image/png": "[encoded data removed]",
            "text/plain": [
              "<Figure size 432x288 with 1 Axes>"
            ]
          },
          "metadata": {
            "needs_background": "light"
          }
        }
      ],
      "source": [
        "num_classes = 2\n",
        "num_features = 2\n",
        "num_examples = 100\n",
        "\n",
        "colors = ['r','b','g']\n",
        "data = []\n",
        "labels = []\n",
        "# Generate random data\n",
        "for idx in range(num_examples):\n",
        "    # Randomly decide if we want a positive or negative example\n",
        "    if (random.random() > 0.5):\n",
        "        label = 0\n",
        "    else:\n",
        "        label = 1\n",
        "\n",
        "    rand_x = random.randint(-5,5)\n",
        "    rand_decision = (random.random() + 0.5) * 5 * (label*2-1)\n",
        "    y = rand_decision + -3 * rand_x + 3\n",
        "    data.append([rand_x, y])\n",
        "    labels.append(label)\n",
        "\n",
        "plt.xlim([-15,15])\n",
        "plt.ylim([-6,6])\n",
        "plt.scatter([x[0] for x in data], [x[1] for x in data], c=[colors[l] for l in labels], s=40)\n",
        "x_line = np.linspace(-15,15)\n",
        "y_line = -3.0 * x_line + 3\n",
        "plt.plot(x_line, y_line)"
      ]
    },
    {
      "cell_type": "markdown",
      "metadata": {
        "id": "SeYYcv_yQ_Yu"
      },
      "source": [
        "# Data preparation for learning\n",
        "All frameworks expect data in a certain _format_. Keras expects its input to be in *Numpy* matrices.\n",
        "\n",
        "We usually use `X` to denote the data, and `y` to denote labels. \n",
        "`X` is a matrix of size `num_examples x num_features`, in this case, `100 x 2`.\n",
        "`y` is a vector of size `num_examples`, one label per example. In this case, `100`."
      ]
    },
    {
      "cell_type": "code",
      "execution_count": 27,
      "metadata": {
        "id": "sdYb6S8YQ_Yu",
        "outputId": "6cb25434-a24d-4957-b981-c809401dd9ee",
        "colab": {
          "base_uri": "https://localhost:8080/"
        }
      },
      "outputs": [
        {
          "output_type": "stream",
          "name": "stdout",
          "text": [
            "X shape: (100, 2)\n",
            "y shape: (100,)\n"
          ]
        }
      ],
      "source": [
        "X = np.array(data)\n",
        "y = np.array(labels)\n",
        "\n",
        "print(\"X shape:\",X.shape)\n",
        "print(\"y shape:\",y.shape)"
      ]
    },
    {
      "cell_type": "markdown",
      "metadata": {
        "id": "m1sQQy8NQ_Yv"
      },
      "source": [
        "Even though we now have `y` with 100 labels (`0` or `1`), recall that in binary classification, we eventually compare probability distributions using Softmax and CrossEntropy. Hence, we need to convert our `y` into matrix of probability distributions.\n",
        "\n",
        "Essentially, we will me doing the following mapping:\n",
        "Class `0` => `[1.0, 0.0]`\n",
        "Class `1` => `[0.0, 1.0]`\n",
        "\n",
        "Keras has a built in function, `to_categorical` to do this conversion for us"
      ]
    },
    {
      "cell_type": "code",
      "execution_count": 28,
      "metadata": {
        "id": "7MID-rJUQ_Yw",
        "outputId": "deaf238e-9557-4ff4-9bf5-43a58035547e",
        "colab": {
          "base_uri": "https://localhost:8080/"
        }
      },
      "outputs": [
        {
          "output_type": "stream",
          "name": "stdout",
          "text": [
            "Old y sample:\n",
            "[1 0 1 0 0 1 0 0 1 0]\n",
            "New y sample:\n",
            "[[0. 1.]\n",
            " [1. 0.]\n",
            " [0. 1.]\n",
            " [1. 0.]\n",
            " [1. 0.]\n",
            " [0. 1.]\n",
            " [1. 0.]\n",
            " [1. 0.]\n",
            " [0. 1.]\n",
            " [1. 0.]]\n"
          ]
        }
      ],
      "source": [
        "print(\"Old y sample:\")\n",
        "print(y[:10])\n",
        "\n",
        "y_probs = to_categorical(y, num_classes=2)\n",
        "print(\"New y sample:\")\n",
        "print(y_probs[:10, :])"
      ]
    },
    {
      "cell_type": "markdown",
      "metadata": {
        "id": "CA7DqXl0Q_Yx"
      },
      "source": [
        "# Model definition"
      ]
    },
    {
      "cell_type": "code",
      "execution_count": 30,
      "metadata": {
        "id": "oackaglwQ_Yx",
        "outputId": "d369d03b-08f2-40f7-ed2f-91c4eb30b3d4",
        "colab": {
          "base_uri": "https://localhost:8080/"
        }
      },
      "outputs": [
        {
          "output_type": "stream",
          "name": "stdout",
          "text": [
            "Model: \"sequential_6\"\n",
            "_________________________________________________________________\n",
            " Layer (type)                Output Shape              Param #   \n",
            "=================================================================\n",
            " dense_59 (Dense)            (None, 2)                 6         \n",
            "                                                                 \n",
            " softmax_6 (Softmax)         (None, 2)                 0         \n",
            "                                                                 \n",
            "=================================================================\n",
            "Total params: 6\n",
            "Trainable params: 6\n",
            "Non-trainable params: 0\n",
            "_________________________________________________________________\n"
          ]
        }
      ],
      "source": [
        "model = Sequential()\n",
        "model.add(Dense(2, input_shape=(2,)))\n",
        "\n",
        "model.add(Softmax())\n",
        "\n",
        "sgd_optimizer = optimizers.SGD(learning_rate=0.01)\n",
        "model.compile(loss=\"categorical_crossentropy\",\n",
        "              optimizer=sgd_optimizer,\n",
        "              metrics=['acc'])\n",
        "model.summary()"
      ]
    },
    {
      "cell_type": "markdown",
      "metadata": {
        "id": "QHILW4C_Q_Yx"
      },
      "source": [
        "# Learning"
      ]
    },
    {
      "cell_type": "code",
      "execution_count": 31,
      "metadata": {
        "scrolled": false,
        "id": "AnSnkHDIQ_Yy",
        "outputId": "016d89a2-10f1-42b9-8c48-fa6013c3c84d",
        "colab": {
          "base_uri": "https://localhost:8080/",
          "height": 715
        }
      },
      "outputs": [
        {
          "output_type": "display_data",
          "data": {
            "image/png": "[encoded data removed]",
            "text/plain": [
              "<Figure size 432x288 with 1 Axes>"
            ]
          },
          "metadata": {
            "needs_background": "light"
          }
        },
        {
          "output_type": "stream",
          "name": "stdout",
          "text": [
            "Epoch 1: 0.73 (acc) 2.05 (loss)\n",
            "Epoch 11: 0.93 (acc) 0.20 (loss)\n",
            "Epoch 21: 0.94 (acc) 0.18 (loss)\n",
            "Epoch 31: 0.99 (acc) 0.17 (loss)\n",
            "Epoch 41: 0.94 (acc) 0.16 (loss)\n",
            "Epoch 51: 0.97 (acc) 0.15 (loss)\n",
            "Epoch 61: 1.00 (acc) 0.14 (loss)\n",
            "Epoch 71: 0.99 (acc) 0.13 (loss)\n",
            "Epoch 81: 0.99 (acc) 0.12 (loss)\n",
            "Epoch 91: 0.98 (acc) 0.11 (loss)\n"
          ]
        },
        {
          "output_type": "display_data",
          "data": {
            "image/png": "[encoded data removed]",
            "text/plain": [
              "<Figure size 432x288 with 1 Axes>"
            ]
          },
          "metadata": {
            "needs_background": "light"
          }
        }
      ],
      "source": [
        "# Visualize initial decision boundary\n",
        "w, b = model.layers[0].get_weights()\n",
        "visualize(model, data, labels, w, b, title=\"Before training\")\n",
        "\n",
        "for epoch in range(100):\n",
        "    # Perform one step over the entire dataset\n",
        "    loss_history = model.fit(X, y_probs, epochs=1, verbose=False)\n",
        "    \n",
        "    # Get predictions (value of the objective function, f)\n",
        "    y_pred = model.predict(X, verbose=False)\n",
        "    \n",
        "    # See how well our model is doing\n",
        "    correct_preds = (np.argmax(y_pred, axis=1) == y)\n",
        "    num_correct = np.sum(correct_preds)\n",
        "    acc = num_correct / 100.0\n",
        "    loss = loss_history.history['loss'][-1]\n",
        "    \n",
        "    if epoch % 10 == 0:\n",
        "        print(\"Epoch %d: %0.2f (acc) %0.2f (loss)\"%(epoch+1, acc, loss))\n",
        "\n",
        "# Visualize learned decision boundary\n",
        "w, b = model.layers[0].get_weights()\n",
        "visualize(model, data, labels, w, b, title=\"After training\")"
      ]
    },
    {
      "cell_type": "code",
      "execution_count": 35,
      "metadata": {
        "id": "G1AmsvNcQ_Yy",
        "colab": {
          "base_uri": "https://localhost:8080/"
        },
        "outputId": "677f1512-4cad-456d-edb9-9fbb80b83d58"
      },
      "outputs": [
        {
          "output_type": "stream",
          "name": "stdout",
          "text": [
            "weight =  [[-0.10724066  1.5623758 ]\n",
            " [-0.15350387  0.4599421 ]] \n",
            " bias = [ 0.36937684 -0.36937687]\n"
          ]
        }
      ],
      "source": [
        "# Weights learnt by the model\n",
        "for layer in model.layers[:-1]:\n",
        "  w,b = layer.get_weights()\n",
        "  print(\"weight = \", w, \"\\n bias =\", b)\n"
      ]
    },
    {
      "cell_type": "code",
      "source": [
        ""
      ],
      "metadata": {
        "id": "1xFaCeS7TAqR"
      },
      "execution_count": 25,
      "outputs": []
    },
    {
      "cell_type": "markdown",
      "source": [
        "Assignment 1a:\n",
        "How would be the change in model/loss if\n",
        "\n",
        "1) 200 epochs are used\n",
        "\n",
        "2)  50 neurons are used in the dense layer\n",
        "\n",
        "3a) 2 dense layers are used (each having 2 neurons)\n",
        "\n",
        "3b) 50 dense layers are used (each having 2 neurons)"
      ],
      "metadata": {
        "id": "79jrC0W9Zxnc"
      }
    }
  ],
  "metadata": {
    "kernelspec": {
      "display_name": "Python 3",
      "name": "python3"
    },
    "language_info": {
      "name": "python"
    },
    "colab": {
      "name": "s22dl - P1a - Linear Binary Classification.ipynb",
      "provenance": []
    }
  },
  "nbformat": 4,
  "nbformat_minor": 0
}